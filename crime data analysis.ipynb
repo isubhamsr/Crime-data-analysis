{
 "cells": [
  {
   "cell_type": "code",
   "execution_count": 1,
   "metadata": {},
   "outputs": [],
   "source": [
    "#descriptive analysis(means history of the data)"
   ]
  },
  {
   "cell_type": "code",
   "execution_count": 1,
   "metadata": {},
   "outputs": [],
   "source": [
    "import pandas as pd\n",
    "import numpy as np\n",
    "import matplotlib.pyplot as plt\n",
    "from matplotlib.figure import Figure\n",
    "from matplotlib.backends.backend_agg import FigureCanvasAgg as FigureCanvas"
   ]
  },
  {
   "cell_type": "code",
   "execution_count": 2,
   "metadata": {},
   "outputs": [],
   "source": [
    "df = pd.read_csv('crime.csv')"
   ]
  },
  {
   "cell_type": "code",
   "execution_count": 3,
   "metadata": {},
   "outputs": [
    {
     "data": {
      "text/html": [
       "<div>\n",
       "<style scoped>\n",
       "    .dataframe tbody tr th:only-of-type {\n",
       "        vertical-align: middle;\n",
       "    }\n",
       "\n",
       "    .dataframe tbody tr th {\n",
       "        vertical-align: top;\n",
       "    }\n",
       "\n",
       "    .dataframe thead th {\n",
       "        text-align: right;\n",
       "    }\n",
       "</style>\n",
       "<table border=\"1\" class=\"dataframe\">\n",
       "  <thead>\n",
       "    <tr style=\"text-align: right;\">\n",
       "      <th></th>\n",
       "      <th>IncidntNum</th>\n",
       "      <th>Category</th>\n",
       "      <th>Descript</th>\n",
       "      <th>DayOfWeek</th>\n",
       "      <th>Date</th>\n",
       "      <th>Time</th>\n",
       "      <th>PdDistrict</th>\n",
       "      <th>Resolution</th>\n",
       "      <th>Address</th>\n",
       "      <th>X</th>\n",
       "      <th>Y</th>\n",
       "      <th>Location</th>\n",
       "    </tr>\n",
       "  </thead>\n",
       "  <tbody>\n",
       "    <tr>\n",
       "      <th>0</th>\n",
       "      <td>140009459</td>\n",
       "      <td>ARSON</td>\n",
       "      <td>ARSON</td>\n",
       "      <td>Saturday</td>\n",
       "      <td>01/04/2014 12:00:00 AM</td>\n",
       "      <td>03:52</td>\n",
       "      <td>NORTHERN</td>\n",
       "      <td>ARREST, BOOKED</td>\n",
       "      <td>SACRAMENTO ST / POLK ST</td>\n",
       "      <td>-122.420875</td>\n",
       "      <td>37.791494</td>\n",
       "      <td>(37.7914943051906, -122.420874632415)</td>\n",
       "    </tr>\n",
       "    <tr>\n",
       "      <th>1</th>\n",
       "      <td>140042001</td>\n",
       "      <td>FRAUD</td>\n",
       "      <td>CREDIT CARD, THEFT BY USE OF</td>\n",
       "      <td>Wednesday</td>\n",
       "      <td>01/15/2014 12:00:00 AM</td>\n",
       "      <td>12:30</td>\n",
       "      <td>CENTRAL</td>\n",
       "      <td>NONE</td>\n",
       "      <td>SANSOME ST / BUSH ST</td>\n",
       "      <td>-122.400749</td>\n",
       "      <td>37.791178</td>\n",
       "      <td>(37.7911776792224, -122.400748631911)</td>\n",
       "    </tr>\n",
       "    <tr>\n",
       "      <th>2</th>\n",
       "      <td>140071185</td>\n",
       "      <td>VEHICLE THEFT</td>\n",
       "      <td>STOLEN AUTOMOBILE</td>\n",
       "      <td>Thursday</td>\n",
       "      <td>01/23/2014 12:00:00 AM</td>\n",
       "      <td>18:00</td>\n",
       "      <td>TARAVAL</td>\n",
       "      <td>NONE</td>\n",
       "      <td>WILSON ST / RHINE ST</td>\n",
       "      <td>-122.461139</td>\n",
       "      <td>37.709085</td>\n",
       "      <td>(37.7090849156407, -122.461139183524)</td>\n",
       "    </tr>\n",
       "    <tr>\n",
       "      <th>3</th>\n",
       "      <td>140094892</td>\n",
       "      <td>ASSAULT</td>\n",
       "      <td>BATTERY</td>\n",
       "      <td>Saturday</td>\n",
       "      <td>02/01/2014 12:00:00 AM</td>\n",
       "      <td>16:33</td>\n",
       "      <td>SOUTHERN</td>\n",
       "      <td>NONE</td>\n",
       "      <td>MARKET ST / 3RD ST</td>\n",
       "      <td>-122.403434</td>\n",
       "      <td>37.787643</td>\n",
       "      <td>(37.78764305018, -122.403434086745)</td>\n",
       "    </tr>\n",
       "    <tr>\n",
       "      <th>4</th>\n",
       "      <td>140096371</td>\n",
       "      <td>ROBBERY</td>\n",
       "      <td>ROBBERY, BODILY FORCE</td>\n",
       "      <td>Sunday</td>\n",
       "      <td>02/02/2014 12:00:00 AM</td>\n",
       "      <td>06:50</td>\n",
       "      <td>SOUTHERN</td>\n",
       "      <td>NONE</td>\n",
       "      <td>MISSION ST / 11TH ST</td>\n",
       "      <td>-122.417105</td>\n",
       "      <td>37.774324</td>\n",
       "      <td>(37.7743242867908, -122.417104895556)</td>\n",
       "    </tr>\n",
       "  </tbody>\n",
       "</table>\n",
       "</div>"
      ],
      "text/plain": [
       "   IncidntNum       Category                      Descript  DayOfWeek  \\\n",
       "0   140009459          ARSON                         ARSON   Saturday   \n",
       "1   140042001          FRAUD  CREDIT CARD, THEFT BY USE OF  Wednesday   \n",
       "2   140071185  VEHICLE THEFT             STOLEN AUTOMOBILE   Thursday   \n",
       "3   140094892        ASSAULT                       BATTERY   Saturday   \n",
       "4   140096371        ROBBERY         ROBBERY, BODILY FORCE     Sunday   \n",
       "\n",
       "                     Date   Time PdDistrict      Resolution  \\\n",
       "0  01/04/2014 12:00:00 AM  03:52   NORTHERN  ARREST, BOOKED   \n",
       "1  01/15/2014 12:00:00 AM  12:30    CENTRAL            NONE   \n",
       "2  01/23/2014 12:00:00 AM  18:00    TARAVAL            NONE   \n",
       "3  02/01/2014 12:00:00 AM  16:33   SOUTHERN            NONE   \n",
       "4  02/02/2014 12:00:00 AM  06:50   SOUTHERN            NONE   \n",
       "\n",
       "                   Address           X          Y  \\\n",
       "0  SACRAMENTO ST / POLK ST -122.420875  37.791494   \n",
       "1     SANSOME ST / BUSH ST -122.400749  37.791178   \n",
       "2     WILSON ST / RHINE ST -122.461139  37.709085   \n",
       "3       MARKET ST / 3RD ST -122.403434  37.787643   \n",
       "4     MISSION ST / 11TH ST -122.417105  37.774324   \n",
       "\n",
       "                                Location  \n",
       "0  (37.7914943051906, -122.420874632415)  \n",
       "1  (37.7911776792224, -122.400748631911)  \n",
       "2  (37.7090849156407, -122.461139183524)  \n",
       "3    (37.78764305018, -122.403434086745)  \n",
       "4  (37.7743242867908, -122.417104895556)  "
      ]
     },
     "execution_count": 3,
     "metadata": {},
     "output_type": "execute_result"
    }
   ],
   "source": [
    "df.head()"
   ]
  },
  {
   "cell_type": "code",
   "execution_count": 4,
   "metadata": {},
   "outputs": [
    {
     "name": "stdout",
     "output_type": "stream",
     "text": [
      "<class 'pandas.core.frame.DataFrame'>\n",
      "RangeIndex: 1910916 entries, 0 to 1910915\n",
      "Data columns (total 12 columns):\n",
      "IncidntNum    int64\n",
      "Category      object\n",
      "Descript      object\n",
      "DayOfWeek     object\n",
      "Date          object\n",
      "Time          object\n",
      "PdDistrict    object\n",
      "Resolution    object\n",
      "Address       object\n",
      "X             float64\n",
      "Y             float64\n",
      "Location      object\n",
      "dtypes: float64(2), int64(1), object(9)\n",
      "memory usage: 109.3+ MB\n"
     ]
    }
   ],
   "source": [
    "df.info()"
   ]
  },
  {
   "cell_type": "code",
   "execution_count": 5,
   "metadata": {},
   "outputs": [
    {
     "data": {
      "text/plain": [
       "(1910916, 12)"
      ]
     },
     "execution_count": 5,
     "metadata": {},
     "output_type": "execute_result"
    }
   ],
   "source": [
    "df.shape"
   ]
  },
  {
   "cell_type": "code",
   "execution_count": 6,
   "metadata": {},
   "outputs": [
    {
     "data": {
      "text/plain": [
       "LARCENY/THEFT                  390873\n",
       "OTHER OFFENSES                 272235\n",
       "NON-CRIMINAL                   203645\n",
       "ASSAULT                        167296\n",
       "VEHICLE THEFT                  115120\n",
       "DRUG/NARCOTIC                  112189\n",
       "VANDALISM                       97466\n",
       "WARRANTS                        90798\n",
       "BURGLARY                        79781\n",
       "SUSPICIOUS OCC                  68564\n",
       "MISSING PERSON                  56219\n",
       "ROBBERY                         49158\n",
       "FRAUD                           36359\n",
       "FORGERY/COUNTERFEITING          21896\n",
       "SECONDARY CODES                 21889\n",
       "WEAPON LAWS                     18772\n",
       "TRESPASS                        16019\n",
       "PROSTITUTION                    15758\n",
       "STOLEN PROPERTY                 10235\n",
       "SEX OFFENSES, FORCIBLE           9705\n",
       "DRUNKENNESS                      9101\n",
       "DISORDERLY CONDUCT               9058\n",
       "RECOVERED VEHICLE                7545\n",
       "DRIVING UNDER THE INFLUENCE      5013\n",
       "KIDNAPPING                       4882\n",
       "RUNAWAY                          4015\n",
       "LIQUOR LAWS                      3895\n",
       "ARSON                            3329\n",
       "EMBEZZLEMENT                     2612\n",
       "LOITERING                        2363\n",
       "SUICIDE                          1142\n",
       "FAMILY OFFENSES                  1092\n",
       "BAD CHECKS                        866\n",
       "BRIBERY                           692\n",
       "EXTORTION                         625\n",
       "SEX OFFENSES, NON FORCIBLE        341\n",
       "GAMBLING                          310\n",
       "PORNOGRAPHY/OBSCENE MAT            47\n",
       "TREA                               11\n",
       "Name: Category, dtype: int64"
      ]
     },
     "execution_count": 6,
     "metadata": {},
     "output_type": "execute_result"
    }
   ],
   "source": [
    "count_category = df['Category'].value_counts() #this is for value count of a collumn (value_counts)\n",
    "count_category"
   ]
  },
  {
   "cell_type": "code",
   "execution_count": 7,
   "metadata": {},
   "outputs": [
    {
     "data": {
      "text/plain": [
       "pandas.core.series.Series"
      ]
     },
     "execution_count": 7,
     "metadata": {},
     "output_type": "execute_result"
    }
   ],
   "source": [
    "type(count_category)"
   ]
  },
  {
   "cell_type": "code",
   "execution_count": 8,
   "metadata": {},
   "outputs": [
    {
     "data": {
      "text/html": [
       "<div>\n",
       "<style scoped>\n",
       "    .dataframe tbody tr th:only-of-type {\n",
       "        vertical-align: middle;\n",
       "    }\n",
       "\n",
       "    .dataframe tbody tr th {\n",
       "        vertical-align: top;\n",
       "    }\n",
       "\n",
       "    .dataframe thead th {\n",
       "        text-align: right;\n",
       "    }\n",
       "</style>\n",
       "<table border=\"1\" class=\"dataframe\">\n",
       "  <thead>\n",
       "    <tr style=\"text-align: right;\">\n",
       "      <th></th>\n",
       "      <th>index</th>\n",
       "      <th>Category</th>\n",
       "    </tr>\n",
       "  </thead>\n",
       "  <tbody>\n",
       "    <tr>\n",
       "      <th>0</th>\n",
       "      <td>LARCENY/THEFT</td>\n",
       "      <td>390873</td>\n",
       "    </tr>\n",
       "    <tr>\n",
       "      <th>1</th>\n",
       "      <td>OTHER OFFENSES</td>\n",
       "      <td>272235</td>\n",
       "    </tr>\n",
       "    <tr>\n",
       "      <th>2</th>\n",
       "      <td>NON-CRIMINAL</td>\n",
       "      <td>203645</td>\n",
       "    </tr>\n",
       "    <tr>\n",
       "      <th>3</th>\n",
       "      <td>ASSAULT</td>\n",
       "      <td>167296</td>\n",
       "    </tr>\n",
       "    <tr>\n",
       "      <th>4</th>\n",
       "      <td>VEHICLE THEFT</td>\n",
       "      <td>115120</td>\n",
       "    </tr>\n",
       "    <tr>\n",
       "      <th>5</th>\n",
       "      <td>DRUG/NARCOTIC</td>\n",
       "      <td>112189</td>\n",
       "    </tr>\n",
       "    <tr>\n",
       "      <th>6</th>\n",
       "      <td>VANDALISM</td>\n",
       "      <td>97466</td>\n",
       "    </tr>\n",
       "    <tr>\n",
       "      <th>7</th>\n",
       "      <td>WARRANTS</td>\n",
       "      <td>90798</td>\n",
       "    </tr>\n",
       "    <tr>\n",
       "      <th>8</th>\n",
       "      <td>BURGLARY</td>\n",
       "      <td>79781</td>\n",
       "    </tr>\n",
       "    <tr>\n",
       "      <th>9</th>\n",
       "      <td>SUSPICIOUS OCC</td>\n",
       "      <td>68564</td>\n",
       "    </tr>\n",
       "    <tr>\n",
       "      <th>10</th>\n",
       "      <td>MISSING PERSON</td>\n",
       "      <td>56219</td>\n",
       "    </tr>\n",
       "    <tr>\n",
       "      <th>11</th>\n",
       "      <td>ROBBERY</td>\n",
       "      <td>49158</td>\n",
       "    </tr>\n",
       "    <tr>\n",
       "      <th>12</th>\n",
       "      <td>FRAUD</td>\n",
       "      <td>36359</td>\n",
       "    </tr>\n",
       "    <tr>\n",
       "      <th>13</th>\n",
       "      <td>FORGERY/COUNTERFEITING</td>\n",
       "      <td>21896</td>\n",
       "    </tr>\n",
       "    <tr>\n",
       "      <th>14</th>\n",
       "      <td>SECONDARY CODES</td>\n",
       "      <td>21889</td>\n",
       "    </tr>\n",
       "    <tr>\n",
       "      <th>15</th>\n",
       "      <td>WEAPON LAWS</td>\n",
       "      <td>18772</td>\n",
       "    </tr>\n",
       "    <tr>\n",
       "      <th>16</th>\n",
       "      <td>TRESPASS</td>\n",
       "      <td>16019</td>\n",
       "    </tr>\n",
       "    <tr>\n",
       "      <th>17</th>\n",
       "      <td>PROSTITUTION</td>\n",
       "      <td>15758</td>\n",
       "    </tr>\n",
       "    <tr>\n",
       "      <th>18</th>\n",
       "      <td>STOLEN PROPERTY</td>\n",
       "      <td>10235</td>\n",
       "    </tr>\n",
       "    <tr>\n",
       "      <th>19</th>\n",
       "      <td>SEX OFFENSES, FORCIBLE</td>\n",
       "      <td>9705</td>\n",
       "    </tr>\n",
       "    <tr>\n",
       "      <th>20</th>\n",
       "      <td>DRUNKENNESS</td>\n",
       "      <td>9101</td>\n",
       "    </tr>\n",
       "    <tr>\n",
       "      <th>21</th>\n",
       "      <td>DISORDERLY CONDUCT</td>\n",
       "      <td>9058</td>\n",
       "    </tr>\n",
       "    <tr>\n",
       "      <th>22</th>\n",
       "      <td>RECOVERED VEHICLE</td>\n",
       "      <td>7545</td>\n",
       "    </tr>\n",
       "    <tr>\n",
       "      <th>23</th>\n",
       "      <td>DRIVING UNDER THE INFLUENCE</td>\n",
       "      <td>5013</td>\n",
       "    </tr>\n",
       "    <tr>\n",
       "      <th>24</th>\n",
       "      <td>KIDNAPPING</td>\n",
       "      <td>4882</td>\n",
       "    </tr>\n",
       "    <tr>\n",
       "      <th>25</th>\n",
       "      <td>RUNAWAY</td>\n",
       "      <td>4015</td>\n",
       "    </tr>\n",
       "    <tr>\n",
       "      <th>26</th>\n",
       "      <td>LIQUOR LAWS</td>\n",
       "      <td>3895</td>\n",
       "    </tr>\n",
       "    <tr>\n",
       "      <th>27</th>\n",
       "      <td>ARSON</td>\n",
       "      <td>3329</td>\n",
       "    </tr>\n",
       "    <tr>\n",
       "      <th>28</th>\n",
       "      <td>EMBEZZLEMENT</td>\n",
       "      <td>2612</td>\n",
       "    </tr>\n",
       "    <tr>\n",
       "      <th>29</th>\n",
       "      <td>LOITERING</td>\n",
       "      <td>2363</td>\n",
       "    </tr>\n",
       "    <tr>\n",
       "      <th>30</th>\n",
       "      <td>SUICIDE</td>\n",
       "      <td>1142</td>\n",
       "    </tr>\n",
       "    <tr>\n",
       "      <th>31</th>\n",
       "      <td>FAMILY OFFENSES</td>\n",
       "      <td>1092</td>\n",
       "    </tr>\n",
       "    <tr>\n",
       "      <th>32</th>\n",
       "      <td>BAD CHECKS</td>\n",
       "      <td>866</td>\n",
       "    </tr>\n",
       "    <tr>\n",
       "      <th>33</th>\n",
       "      <td>BRIBERY</td>\n",
       "      <td>692</td>\n",
       "    </tr>\n",
       "    <tr>\n",
       "      <th>34</th>\n",
       "      <td>EXTORTION</td>\n",
       "      <td>625</td>\n",
       "    </tr>\n",
       "    <tr>\n",
       "      <th>35</th>\n",
       "      <td>SEX OFFENSES, NON FORCIBLE</td>\n",
       "      <td>341</td>\n",
       "    </tr>\n",
       "    <tr>\n",
       "      <th>36</th>\n",
       "      <td>GAMBLING</td>\n",
       "      <td>310</td>\n",
       "    </tr>\n",
       "    <tr>\n",
       "      <th>37</th>\n",
       "      <td>PORNOGRAPHY/OBSCENE MAT</td>\n",
       "      <td>47</td>\n",
       "    </tr>\n",
       "    <tr>\n",
       "      <th>38</th>\n",
       "      <td>TREA</td>\n",
       "      <td>11</td>\n",
       "    </tr>\n",
       "  </tbody>\n",
       "</table>\n",
       "</div>"
      ],
      "text/plain": [
       "                          index  Category\n",
       "0                 LARCENY/THEFT    390873\n",
       "1                OTHER OFFENSES    272235\n",
       "2                  NON-CRIMINAL    203645\n",
       "3                       ASSAULT    167296\n",
       "4                 VEHICLE THEFT    115120\n",
       "5                 DRUG/NARCOTIC    112189\n",
       "6                     VANDALISM     97466\n",
       "7                      WARRANTS     90798\n",
       "8                      BURGLARY     79781\n",
       "9                SUSPICIOUS OCC     68564\n",
       "10               MISSING PERSON     56219\n",
       "11                      ROBBERY     49158\n",
       "12                        FRAUD     36359\n",
       "13       FORGERY/COUNTERFEITING     21896\n",
       "14              SECONDARY CODES     21889\n",
       "15                  WEAPON LAWS     18772\n",
       "16                     TRESPASS     16019\n",
       "17                 PROSTITUTION     15758\n",
       "18              STOLEN PROPERTY     10235\n",
       "19       SEX OFFENSES, FORCIBLE      9705\n",
       "20                  DRUNKENNESS      9101\n",
       "21           DISORDERLY CONDUCT      9058\n",
       "22            RECOVERED VEHICLE      7545\n",
       "23  DRIVING UNDER THE INFLUENCE      5013\n",
       "24                   KIDNAPPING      4882\n",
       "25                      RUNAWAY      4015\n",
       "26                  LIQUOR LAWS      3895\n",
       "27                        ARSON      3329\n",
       "28                 EMBEZZLEMENT      2612\n",
       "29                    LOITERING      2363\n",
       "30                      SUICIDE      1142\n",
       "31              FAMILY OFFENSES      1092\n",
       "32                   BAD CHECKS       866\n",
       "33                      BRIBERY       692\n",
       "34                    EXTORTION       625\n",
       "35   SEX OFFENSES, NON FORCIBLE       341\n",
       "36                     GAMBLING       310\n",
       "37      PORNOGRAPHY/OBSCENE MAT        47\n",
       "38                         TREA        11"
      ]
     },
     "execution_count": 8,
     "metadata": {},
     "output_type": "execute_result"
    }
   ],
   "source": [
    "count_category_dataframe = pd.DataFrame(count_category)\n",
    "DF1=count_category_dataframe.reset_index()\n",
    "DF1"
   ]
  },
  {
   "cell_type": "code",
   "execution_count": 9,
   "metadata": {},
   "outputs": [
    {
     "data": {
      "text/html": [
       "<div>\n",
       "<style scoped>\n",
       "    .dataframe tbody tr th:only-of-type {\n",
       "        vertical-align: middle;\n",
       "    }\n",
       "\n",
       "    .dataframe tbody tr th {\n",
       "        vertical-align: top;\n",
       "    }\n",
       "\n",
       "    .dataframe thead th {\n",
       "        text-align: right;\n",
       "    }\n",
       "</style>\n",
       "<table border=\"1\" class=\"dataframe\">\n",
       "  <thead>\n",
       "    <tr style=\"text-align: right;\">\n",
       "      <th></th>\n",
       "      <th>Category</th>\n",
       "      <th>Freq</th>\n",
       "    </tr>\n",
       "  </thead>\n",
       "  <tbody>\n",
       "    <tr>\n",
       "      <th>0</th>\n",
       "      <td>LARCENY/THEFT</td>\n",
       "      <td>390873</td>\n",
       "    </tr>\n",
       "    <tr>\n",
       "      <th>1</th>\n",
       "      <td>OTHER OFFENSES</td>\n",
       "      <td>272235</td>\n",
       "    </tr>\n",
       "    <tr>\n",
       "      <th>2</th>\n",
       "      <td>NON-CRIMINAL</td>\n",
       "      <td>203645</td>\n",
       "    </tr>\n",
       "    <tr>\n",
       "      <th>3</th>\n",
       "      <td>ASSAULT</td>\n",
       "      <td>167296</td>\n",
       "    </tr>\n",
       "    <tr>\n",
       "      <th>4</th>\n",
       "      <td>VEHICLE THEFT</td>\n",
       "      <td>115120</td>\n",
       "    </tr>\n",
       "  </tbody>\n",
       "</table>\n",
       "</div>"
      ],
      "text/plain": [
       "         Category    Freq\n",
       "0   LARCENY/THEFT  390873\n",
       "1  OTHER OFFENSES  272235\n",
       "2    NON-CRIMINAL  203645\n",
       "3         ASSAULT  167296\n",
       "4   VEHICLE THEFT  115120"
      ]
     },
     "execution_count": 9,
     "metadata": {},
     "output_type": "execute_result"
    }
   ],
   "source": [
    "#change collumn name\n",
    "\n",
    "DF1.columns=['Category','Freq']\n",
    "DF1.head()"
   ]
  },
  {
   "cell_type": "code",
   "execution_count": 10,
   "metadata": {},
   "outputs": [
    {
     "data": {
      "image/png": "[encoded data removed]",
      "text/plain": [
       "<Figure size 432x288 with 1 Axes>"
      ]
     },
     "metadata": {},
     "output_type": "display_data"
    }
   ],
   "source": [
    "x = DF1['Category'].head(7)\n",
    "y = DF1['Freq'].head(7)\n",
    "\n",
    "\n",
    "plt.bar(x,y)\n",
    "\n",
    "plt.xlabel('Category of Crime', fontsize=18)\n",
    "plt.ylabel('Frequency of Crime',fontsize=18)\n",
    "plt.title('Category of Crime vs Frequency of Crime',fontsize=18)\n",
    "plt.rcParams['axes.facecolor'] = 'gray'\n",
    "plt.rcParams['figure.figsize']=(10,5)\n",
    "plt.show()"
   ]
  },
  {
   "cell_type": "markdown",
   "metadata": {},
   "source": [
    "# at which day of week highest crime"
   ]
  },
  {
   "cell_type": "code",
   "execution_count": 11,
   "metadata": {},
   "outputs": [],
   "source": [
    "count_day = df['DayOfWeek'].value_counts() \n",
    "count_day_data = pd.DataFrame(count_day)\n",
    "Df2 = count_day_data.reset_index()\n",
    "Df2.columns=['Days','DaysofWeek']\n",
    "x1 = Df2['Days'].head(7)"
   ]
  },
  {
   "cell_type": "code",
   "execution_count": 12,
   "metadata": {},
   "outputs": [
    {
     "data": {
      "image/png": "[encoded data removed]",
      "text/plain": [
       "<Figure size 720x360 with 1 Axes>"
      ]
     },
     "metadata": {},
     "output_type": "display_data"
    }
   ],
   "source": [
    "plt.bar(x1,y)\n",
    "\n",
    "plt.xlabel('Week Days', fontsize=18)\n",
    "plt.ylabel('Frequency of Crime',fontsize=18)\n",
    "plt.title('Week days vs Frequency of Crime',fontsize=18)\n",
    "plt.rcParams['axes.facecolor'] = 'gray'\n",
    "plt.rcParams['figure.figsize']=(10,5)\n",
    "plt.show()"
   ]
  },
  {
   "cell_type": "code",
   "execution_count": 13,
   "metadata": {},
   "outputs": [
    {
     "data": {
      "text/plain": [
       "0    NORTHERN\n",
       "1     CENTRAL\n",
       "2     TARAVAL\n",
       "3    SOUTHERN\n",
       "4    SOUTHERN\n",
       "5     BAYVIEW\n",
       "6    NORTHERN\n",
       "Name: PdDistrict, dtype: object"
      ]
     },
     "execution_count": 13,
     "metadata": {},
     "output_type": "execute_result"
    }
   ],
   "source": [
    "district = df['PdDistrict']\n",
    "DF3 = pd.DataFrame(district)\n",
    "x2=DF3['PdDistrict'].head(7)\n",
    "x2"
   ]
  },
  {
   "cell_type": "code",
   "execution_count": 14,
   "metadata": {},
   "outputs": [
    {
     "data": {
      "image/png": "[encoded data removed]",
      "text/plain": [
       "<Figure size 720x360 with 1 Axes>"
      ]
     },
     "metadata": {},
     "output_type": "display_data"
    }
   ],
   "source": [
    "# plt.pie(x2,y)\n",
    "\n",
    "plt.pie(y, labels=x2, startangle=90, autopct='%1.2f%%', shadow=True, explode=(0.1,0,0,0,0,0,0))\n",
    "plt.legend(loc='lower right')\n",
    "# plt.xlabel('District', fontsize=18)\n",
    "# plt.ylabel('Frequency of Crime',fontsize=18)\n",
    "plt.title('District vs Frequency of Crime',fontsize=18)\n",
    "plt.rcParams['axes.facecolor'] = 'gray'\n",
    "plt.rcParams['figure.figsize']=(10,10)\n",
    "plt.show()"
   ]
  },
  {
   "cell_type": "code",
   "execution_count": null,
   "metadata": {},
   "outputs": [],
   "source": []
  },
  {
   "cell_type": "code",
   "execution_count": 16,
   "metadata": {},
   "outputs": [
    {
     "data": {
      "text/html": [
       "<div>\n",
       "<style scoped>\n",
       "    .dataframe tbody tr th:only-of-type {\n",
       "        vertical-align: middle;\n",
       "    }\n",
       "\n",
       "    .dataframe tbody tr th {\n",
       "        vertical-align: top;\n",
       "    }\n",
       "\n",
       "    .dataframe thead th {\n",
       "        text-align: right;\n",
       "    }\n",
       "</style>\n",
       "<table border=\"1\" class=\"dataframe\">\n",
       "  <thead>\n",
       "    <tr style=\"text-align: right;\">\n",
       "      <th></th>\n",
       "      <th>index</th>\n",
       "      <th>Resolution</th>\n",
       "    </tr>\n",
       "  </thead>\n",
       "  <tbody>\n",
       "    <tr>\n",
       "      <th>0</th>\n",
       "      <td>NONE</td>\n",
       "      <td>1163652</td>\n",
       "    </tr>\n",
       "    <tr>\n",
       "      <th>1</th>\n",
       "      <td>ARREST, BOOKED</td>\n",
       "      <td>452120</td>\n",
       "    </tr>\n",
       "    <tr>\n",
       "      <th>2</th>\n",
       "      <td>ARREST, CITED</td>\n",
       "      <td>154650</td>\n",
       "    </tr>\n",
       "    <tr>\n",
       "      <th>3</th>\n",
       "      <td>LOCATED</td>\n",
       "      <td>34445</td>\n",
       "    </tr>\n",
       "    <tr>\n",
       "      <th>4</th>\n",
       "      <td>PSYCHOPATHIC CASE</td>\n",
       "      <td>29163</td>\n",
       "    </tr>\n",
       "    <tr>\n",
       "      <th>5</th>\n",
       "      <td>UNFOUNDED</td>\n",
       "      <td>21450</td>\n",
       "    </tr>\n",
       "    <tr>\n",
       "      <th>6</th>\n",
       "      <td>JUVENILE BOOKED</td>\n",
       "      <td>11941</td>\n",
       "    </tr>\n",
       "    <tr>\n",
       "      <th>7</th>\n",
       "      <td>COMPLAINANT REFUSES TO PROSECUTE</td>\n",
       "      <td>8087</td>\n",
       "    </tr>\n",
       "    <tr>\n",
       "      <th>8</th>\n",
       "      <td>DISTRICT ATTORNEY REFUSES TO PROSECUTE</td>\n",
       "      <td>7954</td>\n",
       "    </tr>\n",
       "    <tr>\n",
       "      <th>9</th>\n",
       "      <td>NOT PROSECUTED</td>\n",
       "      <td>7689</td>\n",
       "    </tr>\n",
       "    <tr>\n",
       "      <th>10</th>\n",
       "      <td>JUVENILE CITED</td>\n",
       "      <td>6579</td>\n",
       "    </tr>\n",
       "    <tr>\n",
       "      <th>11</th>\n",
       "      <td>PROSECUTED BY OUTSIDE AGENCY</td>\n",
       "      <td>5069</td>\n",
       "    </tr>\n",
       "    <tr>\n",
       "      <th>12</th>\n",
       "      <td>EXCEPTIONAL CLEARANCE</td>\n",
       "      <td>3744</td>\n",
       "    </tr>\n",
       "    <tr>\n",
       "      <th>13</th>\n",
       "      <td>JUVENILE ADMONISHED</td>\n",
       "      <td>3004</td>\n",
       "    </tr>\n",
       "    <tr>\n",
       "      <th>14</th>\n",
       "      <td>JUVENILE DIVERTED</td>\n",
       "      <td>687</td>\n",
       "    </tr>\n",
       "    <tr>\n",
       "      <th>15</th>\n",
       "      <td>CLEARED-CONTACT JUVENILE FOR MORE INFO</td>\n",
       "      <td>600</td>\n",
       "    </tr>\n",
       "    <tr>\n",
       "      <th>16</th>\n",
       "      <td>PROSECUTED FOR LESSER OFFENSE</td>\n",
       "      <td>82</td>\n",
       "    </tr>\n",
       "  </tbody>\n",
       "</table>\n",
       "</div>"
      ],
      "text/plain": [
       "                                     index  Resolution\n",
       "0                                     NONE     1163652\n",
       "1                           ARREST, BOOKED      452120\n",
       "2                            ARREST, CITED      154650\n",
       "3                                  LOCATED       34445\n",
       "4                        PSYCHOPATHIC CASE       29163\n",
       "5                                UNFOUNDED       21450\n",
       "6                          JUVENILE BOOKED       11941\n",
       "7         COMPLAINANT REFUSES TO PROSECUTE        8087\n",
       "8   DISTRICT ATTORNEY REFUSES TO PROSECUTE        7954\n",
       "9                           NOT PROSECUTED        7689\n",
       "10                          JUVENILE CITED        6579\n",
       "11            PROSECUTED BY OUTSIDE AGENCY        5069\n",
       "12                   EXCEPTIONAL CLEARANCE        3744\n",
       "13                     JUVENILE ADMONISHED        3004\n",
       "14                       JUVENILE DIVERTED         687\n",
       "15  CLEARED-CONTACT JUVENILE FOR MORE INFO         600\n",
       "16           PROSECUTED FOR LESSER OFFENSE          82"
      ]
     },
     "execution_count": 16,
     "metadata": {},
     "output_type": "execute_result"
    }
   ],
   "source": [
    "#reg = df['Resolution']\n",
    "\n",
    "count_resolution = df['Resolution'].value_counts() #this is for value count of a collumn (value_counts)\n",
    "count_resolution\n",
    "\n",
    "count_resolution_data = pd.DataFrame(count_resolution)\n",
    "Df4= count_resolution_data.reset_index()\n",
    "Df4"
   ]
  },
  {
   "cell_type": "code",
   "execution_count": 21,
   "metadata": {},
   "outputs": [
    {
     "data": {
      "text/plain": [
       "1163652"
      ]
     },
     "execution_count": 21,
     "metadata": {},
     "output_type": "execute_result"
    }
   ],
   "source": [
    "x6 = Df4.iloc[0,:]\n",
    "a = x6['Resolution']\n",
    "y6 = Df4.iloc[1:17,:]\n",
    "b=y6['Resolution'].sum()\n",
    "b\n",
    "a"
   ]
  },
  {
   "cell_type": "code",
   "execution_count": 18,
   "metadata": {},
   "outputs": [
    {
     "data": {
      "image/png": "[encoded data removed]",
      "text/plain": [
       "<Figure size 720x720 with 1 Axes>"
      ]
     },
     "metadata": {},
     "output_type": "display_data"
    }
   ],
   "source": [
    "x7 = [1,2]\n",
    "y7 = [a,b]\n",
    "label=['Pending', 'Resolved']\n",
    "\n",
    "plt.bar(x7,y7, tick_label=label, width=0.7)\n",
    "plt.xlabel('Resolved and Pending', fontsize=18)\n",
    "plt.ylabel('Frequency of Crime',fontsize=18)\n",
    "plt.title('Resolved and Pending vs Frequency of Crime',fontsize=18)\n",
    "plt.rcParams['axes.facecolor'] = 'gray'\n",
    "plt.rcParams['figure.figsize']=(5,5)\n",
    "plt.show()\n",
    "# plt.show()"
   ]
  },
  {
   "cell_type": "code",
   "execution_count": null,
   "metadata": {},
   "outputs": [],
   "source": []
  },
  {
   "cell_type": "markdown",
   "metadata": {},
   "source": [
    "# how many arson on NORTHERN district"
   ]
  },
  {
   "cell_type": "code",
   "execution_count": 19,
   "metadata": {},
   "outputs": [
    {
     "ename": "NameError",
     "evalue": "name 'data' is not defined",
     "output_type": "error",
     "traceback": [
      "\u001b[1;31m---------------------------------------------------------------------------\u001b[0m",
      "\u001b[1;31mNameError\u001b[0m                                 Traceback (most recent call last)",
      "\u001b[1;32m<ipython-input-19-6457ba98808d>\u001b[0m in \u001b[0;36m<module>\u001b[1;34m()\u001b[0m\n\u001b[1;32m----> 1\u001b[1;33m \u001b[0mpanjab\u001b[0m \u001b[1;33m=\u001b[0m \u001b[0mdata\u001b[0m\u001b[1;33m[\u001b[0m\u001b[0mdata\u001b[0m\u001b[1;33m.\u001b[0m\u001b[0mstate_name\u001b[0m \u001b[1;33m==\u001b[0m \u001b[1;34m'PUNJAB'\u001b[0m\u001b[1;33m]\u001b[0m\u001b[1;33m\u001b[0m\u001b[0m\n\u001b[0m\u001b[0;32m      2\u001b[0m \u001b[0mpanjab\u001b[0m\u001b[1;33m\u001b[0m\u001b[0m\n",
      "\u001b[1;31mNameError\u001b[0m: name 'data' is not defined"
     ]
    }
   ],
   "source": [
    "panjab = data[data.state_name == 'PUNJAB']\n",
    "panjab"
   ]
  },
  {
   "cell_type": "code",
   "execution_count": null,
   "metadata": {},
   "outputs": [],
   "source": [
    "dic = df[df['PdDistrict']=='NORTHERN']\n",
    "dic['Category'].value_counts()"
   ]
  },
  {
   "cell_type": "code",
   "execution_count": null,
   "metadata": {},
   "outputs": [],
   "source": [
    "north_reg = dic['Category'].value_counts() #this is for value count of a collumn (value_counts)\n",
    "north_reg.head()"
   ]
  },
  {
   "cell_type": "code",
   "execution_count": null,
   "metadata": {},
   "outputs": [],
   "source": [
    "north_reg_data = pd.DataFrame(north_reg)\n",
    "Df5= north_reg_data.reset_index()\n",
    "x9 =Df5['index'].head()\n",
    "y9= Df5['Category'].head()"
   ]
  },
  {
   "cell_type": "code",
   "execution_count": null,
   "metadata": {},
   "outputs": [],
   "source": [
    "plt.bar(x9,y9)\n",
    "plt.xlabel('Crime', fontsize=18)\n",
    "plt.ylabel('Frequency of Crime',fontsize=18)\n",
    "plt.title('NORTHERN vs Frequency of Crime',fontsize=18)\n",
    "plt.rcParams['axes.facecolor'] = 'gray'\n",
    "plt.rcParams['figure.figsize']=(10,10)\n",
    "plt.show()"
   ]
  },
  {
   "cell_type": "code",
   "execution_count": null,
   "metadata": {},
   "outputs": [],
   "source": [
    "crime = df[df['Category']=='ARSON']\n",
    "df2 = crime[['Category','PdDistrict']]\n",
    "df2.head()"
   ]
  },
  {
   "cell_type": "code",
   "execution_count": null,
   "metadata": {},
   "outputs": [],
   "source": [
    "g = df2.groupby('PdDistrict')\n",
    "g"
   ]
  },
  {
   "cell_type": "code",
   "execution_count": null,
   "metadata": {},
   "outputs": [],
   "source": [
    "north_Ar = g.get_group('NORTHERN')\n",
    "north_Ar.head()"
   ]
  },
  {
   "cell_type": "code",
   "execution_count": null,
   "metadata": {},
   "outputs": [],
   "source": [
    "north_ar_count = north_Ar['Category'].value_counts() #this is for value count of a collumn (value_counts)\n",
    "north_ar_count"
   ]
  },
  {
   "cell_type": "code",
   "execution_count": null,
   "metadata": {},
   "outputs": [],
   "source": []
  },
  {
   "cell_type": "code",
   "execution_count": null,
   "metadata": {},
   "outputs": [],
   "source": [
    "# multiple variable wise find the frequency\n",
    "\n",
    "crime_frq = df.groupby([\"PdDistrict\", \"Category\"]).size()\n",
    "crime_frq\n",
    "\n",
    "crime_frq_dict2 = pd.DataFrame(crime_frq)\n",
    "crime_frq_dict1 = crime_frq_dict2.reset_index()\n",
    "crime_frq_dict1.columns=['PdDistrict','Category','Frequency']\n",
    "crime_frq_dict1"
   ]
  },
  {
   "cell_type": "code",
   "execution_count": null,
   "metadata": {},
   "outputs": [],
   "source": []
  }
 ],
 "metadata": {
  "kernelspec": {
   "display_name": "Python 3",
   "language": "python",
   "name": "python3"
  },
  "language_info": {
   "codemirror_mode": {
    "name": "ipython",
    "version": 3
   },
   "file_extension": ".py",
   "mimetype": "text/x-python",
   "name": "python",
   "nbconvert_exporter": "python",
   "pygments_lexer": "ipython3",
   "version": "3.6.5"
  }
 },
 "nbformat": 4,
 "nbformat_minor": 2
}
